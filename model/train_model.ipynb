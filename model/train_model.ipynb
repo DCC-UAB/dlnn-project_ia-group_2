{
 "cells": [
  {
   "cell_type": "code",
   "execution_count": 1,
   "metadata": {},
   "outputs": [],
   "source": [
    "%load_ext autoreload\n",
    "%autoreload 2"
   ]
  },
  {
   "cell_type": "code",
   "execution_count": 4,
   "metadata": {},
   "outputs": [
    {
     "ename": "ModuleNotFoundError",
     "evalue": "No module named 'model.model'; 'model' is not a package",
     "output_type": "error",
     "traceback": [
      "\u001b[1;31m---------------------------------------------------------------------------\u001b[0m",
      "\u001b[1;31mModuleNotFoundError\u001b[0m                       Traceback (most recent call last)",
      "Cell \u001b[1;32mIn[4], line 12\u001b[0m\n\u001b[0;32m      8\u001b[0m \u001b[39mfrom\u001b[39;00m \u001b[39mloaders\u001b[39;00m \u001b[39mimport\u001b[39;00m get_train_loader, get_val_test_loader, get_length_vocab, get_pad_index, get_vocab, show_image\n\u001b[0;32m     10\u001b[0m \u001b[39mfrom\u001b[39;00m \u001b[39mtrain\u001b[39;00m \u001b[39mimport\u001b[39;00m train, validate, val_visualize_captions\n\u001b[1;32m---> 12\u001b[0m \u001b[39mfrom\u001b[39;00m \u001b[39mmodel\u001b[39;00m\u001b[39m.\u001b[39;00m\u001b[39mmodel\u001b[39;00m \u001b[39mimport\u001b[39;00m EncoderDecoder\n\u001b[0;32m     14\u001b[0m \u001b[39mimport\u001b[39;00m \u001b[39mpandas\u001b[39;00m \u001b[39mas\u001b[39;00m \u001b[39mpd\u001b[39;00m\n\u001b[0;32m     15\u001b[0m \u001b[39mfrom\u001b[39;00m \u001b[39msklearn\u001b[39;00m\u001b[39m.\u001b[39;00m\u001b[39mmodel_selection\u001b[39;00m \u001b[39mimport\u001b[39;00m train_test_split\n",
      "\u001b[1;31mModuleNotFoundError\u001b[0m: No module named 'model.model'; 'model' is not a package"
     ]
    }
   ],
   "source": [
    "import torch\n",
    "import torch.nn as nn\n",
    "import torch.optim as optim\n",
    "import torchvision.transforms as transforms\n",
    "import torchvision.models as models\n",
    "from torch.optim.lr_scheduler import ReduceLROnPlateau\n",
    "\n",
    "from loaders import get_train_loader, get_val_test_loader, get_length_vocab, get_pad_index, get_vocab, show_image\n",
    "\n",
    "from train import train, validate, val_visualize_captions\n",
    "\n",
    "from model.model import EncoderDecoder\n",
    "\n",
    "import pandas as pd\n",
    "from sklearn.model_selection import train_test_split\n",
    "\n",
    "import matplotlib.pyplot as plt\n",
    "\n",
    "import wandb"
   ]
  },
  {
   "cell_type": "code",
   "execution_count": 4,
   "metadata": {},
   "outputs": [
    {
     "ename": "NameError",
     "evalue": "name 'pd' is not defined",
     "output_type": "error",
     "traceback": [
      "\u001b[1;31m---------------------------------------------------------------------------\u001b[0m",
      "\u001b[1;31mNameError\u001b[0m                                 Traceback (most recent call last)",
      "Cell \u001b[1;32mIn[4], line 28\u001b[0m\n\u001b[0;32m     17\u001b[0m transform_val \u001b[39m=\u001b[39m transforms\u001b[39m.\u001b[39mCompose(\n\u001b[0;32m     18\u001b[0m [\n\u001b[0;32m     19\u001b[0m transforms\u001b[39m.\u001b[39mResize(input_size),  \n\u001b[1;32m   (...)\u001b[0m\n\u001b[0;32m     24\u001b[0m )\n\u001b[0;32m     25\u001b[0m ])\n\u001b[0;32m     27\u001b[0m \u001b[39m# Split data into train and test sets\u001b[39;00m\n\u001b[1;32m---> 28\u001b[0m df_captions \u001b[39m=\u001b[39m pd\u001b[39m.\u001b[39mread_csv(captions_file)\n\u001b[0;32m     29\u001b[0m unique_images \u001b[39m=\u001b[39m df_captions[\u001b[39m'\u001b[39m\u001b[39mimage\u001b[39m\u001b[39m'\u001b[39m]\u001b[39m.\u001b[39munique()\n\u001b[0;32m     30\u001b[0m train_images, test_images \u001b[39m=\u001b[39m train_test_split(unique_images, test_size\u001b[39m=\u001b[39m\u001b[39m0.2\u001b[39m, random_state\u001b[39m=\u001b[39m\u001b[39m42\u001b[39m)\n",
      "\u001b[1;31mNameError\u001b[0m: name 'pd' is not defined"
     ]
    }
   ],
   "source": [
    "data_dir = '../data/Images/'\n",
    "captions_file = '../data/captions.txt'\n",
    "\n",
    "input_size = (224,224)\n",
    "\n",
    "transform_train = transforms.Compose(\n",
    "[\n",
    "transforms.Resize(input_size),  \n",
    "transforms.RandomHorizontalFlip(),\n",
    "transforms.ToTensor(),\n",
    "transforms.Normalize(\n",
    "    mean=[0.485, 0.456, 0.406],  # Normalize with the mean\n",
    "    std=[0.229, 0.224, 0.225]    # Normalize with the standard deviation\n",
    ")\n",
    "])\n",
    "\n",
    "transform_val = transforms.Compose(\n",
    "[\n",
    "transforms.Resize(input_size),  \n",
    "transforms.ToTensor(),\n",
    "transforms.Normalize(\n",
    "    mean=[0.485, 0.456, 0.406],  # Normalize with the mean\n",
    "    std=[0.229, 0.224, 0.225]    # Normalize with the standard deviation\n",
    ")\n",
    "])\n",
    "\n",
    "# Split data into train and test sets\n",
    "df_captions = pd.read_csv(captions_file)\n",
    "unique_images = df_captions['image'].unique()\n",
    "train_images, test_images = train_test_split(unique_images, test_size=0.2, random_state=42)\n",
    "train_images, val_images = train_test_split(train_images, test_size=0.2, random_state=42)\n",
    "\n",
    "train_df = df_captions[df_captions['image'].isin(train_images)]\n",
    "val_df = df_captions[df_captions['image'].isin(val_images)]\n",
    "test_df = df_captions[df_captions['image'].isin(test_images)]\n",
    "\n",
    "pad_index = get_pad_index(data_dir=data_dir, dataframe=train_df, transform=transform_train)\n",
    "\n",
    "vocab_train_df = get_vocab(data_dir=data_dir, dataframe=train_df, transform=transform_train)\n",
    "vocab_val_df = get_vocab(data_dir=data_dir, dataframe=val_df, transform=transform_val)\n",
    "vocab_test_df = get_vocab(data_dir=data_dir, dataframe=test_df, transform=transform_val)\n",
    "\n",
    "# Create train, validation, and test data loaders\n",
    "train_dataloader = get_train_loader(data_dir=data_dir, dataframe=train_df, transform=transform_train, batch_size=32, num_workers=1) # Batch size 32\n",
    "val_dataloader = get_val_test_loader(data_dir=data_dir, dataframe=val_df, transform=transform_val, batch_size=16, num_workers=1) # Batch size 16\n",
    "test_dataloader = get_val_test_loader(data_dir=data_dir, dataframe=test_df, transform=transform_val, batch_size=16, num_workers=1)\n",
    "\n",
    "print(len(val_dataloader))"
   ]
  },
  {
   "cell_type": "code",
   "execution_count": 3,
   "metadata": {},
   "outputs": [
    {
     "ename": "NameError",
     "evalue": "name 'vocab_train_df' is not defined",
     "output_type": "error",
     "traceback": [
      "\u001b[1;31m---------------------------------------------------------------------------\u001b[0m",
      "\u001b[1;31mNameError\u001b[0m                                 Traceback (most recent call last)",
      "Cell \u001b[1;32mIn[3], line 4\u001b[0m\n\u001b[0;32m      2\u001b[0m embed_size \u001b[39m=\u001b[39m \u001b[39m312\u001b[39m\n\u001b[0;32m      3\u001b[0m hidden_size \u001b[39m=\u001b[39m \u001b[39m512\u001b[39m\n\u001b[1;32m----> 4\u001b[0m vocab_size_train \u001b[39m=\u001b[39m \u001b[39mlen\u001b[39m(vocab_train_df)\n\u001b[0;32m      5\u001b[0m num_layers \u001b[39m=\u001b[39m \u001b[39m2\u001b[39m\n\u001b[0;32m      6\u001b[0m learning_rate \u001b[39m=\u001b[39m \u001b[39m0.003\u001b[39m\n",
      "\u001b[1;31mNameError\u001b[0m: name 'vocab_train_df' is not defined"
     ]
    }
   ],
   "source": [
    "# Hyperparameters\n",
    "embed_size = 312\n",
    "hidden_size = 512\n",
    "vocab_size_train = len(vocab_train_df)\n",
    "num_layers = 2\n",
    "learning_rate = 0.003\n",
    "device = torch.device(\"cuda\" if torch.cuda.is_available() else \"cpu\")\n",
    "print(device)"
   ]
  },
  {
   "cell_type": "code",
   "execution_count": 10,
   "metadata": {},
   "outputs": [
    {
     "name": "stdout",
     "output_type": "stream",
     "text": [
      "Current GPU Device: NVIDIA GeForce RTX 3050 Ti Laptop GPU\n"
     ]
    }
   ],
   "source": [
    "if device.type == \"cuda\":\n",
    "    current_device = torch.cuda.current_device()\n",
    "    print(f\"Current GPU Device: {torch.cuda.get_device_name(current_device)}\")"
   ]
  },
  {
   "cell_type": "code",
   "execution_count": 11,
   "metadata": {},
   "outputs": [
    {
     "name": "stderr",
     "output_type": "stream",
     "text": [
      "c:\\Users\\Miguel\\anaconda3\\envs\\Pytorch_2\\lib\\site-packages\\torchvision\\models\\_utils.py:208: UserWarning: The parameter 'pretrained' is deprecated since 0.13 and may be removed in the future, please use 'weights' instead.\n",
      "  warnings.warn(\n",
      "c:\\Users\\Miguel\\anaconda3\\envs\\Pytorch_2\\lib\\site-packages\\torchvision\\models\\_utils.py:223: UserWarning: Arguments other than a weight enum or `None` for 'weights' are deprecated since 0.13 and may be removed in the future. The current behavior is equivalent to passing `weights=ResNet50_Weights.IMAGENET1K_V1`. You can also use `weights=ResNet50_Weights.DEFAULT` to get the most up-to-date weights.\n",
      "  warnings.warn(msg)\n"
     ]
    }
   ],
   "source": [
    "# initialize model, loss etc\n",
    "load_model = False\n",
    "torch.backends.cudnn.benchmark = True\n",
    "\n",
    "if load_model:\n",
    "    model = EncoderDecoder(embed_size, hidden_size, vocab_size_train, num_layers).to(device)\n",
    "    model.load_state_dict(torch.load('model_weights.py'))\n",
    "    model.eval()\n",
    "else:\n",
    "    model = EncoderDecoder(embed_size, hidden_size, vocab_size_train, num_layers).to(device)\n",
    "    criterion = nn.CrossEntropyLoss(ignore_index=pad_index)\n",
    "    optimizer = optim.Adam(model.parameters(), lr=learning_rate) # We apply weight decay that is L2 reg to prevent overfitting\n",
    "    # scheduler = ReduceLROnPlateau(optimizer, mode='min', factor=0.1, patience=5, verbose=True)"
   ]
  },
  {
   "cell_type": "code",
   "execution_count": 26,
   "metadata": {},
   "outputs": [],
   "source": [
    "# wandb.init(entity=\"imgcaption_dl_project\", project=\"miguel-moral (imgcaption_dl_project)\")\n",
    "# wandb.config.embed_size = embed_size\n",
    "# wandb.config.hidden_size = hidden_size\n",
    "# wandb.config.vocab_size_train = vocab_size_train\n",
    "# wandb.config.num_layers = num_layers\n",
    "# wandb.config.learning_rate = learning_rate\n",
    "# wandb.config.device = device\n",
    "# #wandb.config.scheduler = scheduler\n",
    "\n",
    "# wandb.watch(model)\n",
    "# wandb.log({\"Model\": wandb.Graph(model)})\n",
    "# wandb.log({\"Optimizer\": str(optimizer)})"
   ]
  },
  {
   "cell_type": "code",
   "execution_count": 12,
   "metadata": {},
   "outputs": [
    {
     "name": "stdout",
     "output_type": "stream",
     "text": [
      "Starting epoch 1...\n",
      "Train Epoch: 1; Loss: 8.10065\n",
      "Train Epoch: 1; Loss: 2.96176\n",
      "Train set: Average loss: 3.3564426176922284\n",
      "Validation set: Average loss: 6.77774\n"
     ]
    },
    {
     "data": {
      "image/png": "[encoded data removed]",
      "text/plain": [
       "<Figure size 640x480 with 1 Axes>"
      ]
     },
     "metadata": {},
     "output_type": "display_data"
    },
    {
     "name": "stdout",
     "output_type": "stream",
     "text": [
      "Starting epoch 2...\n",
      "Train Epoch: 2; Loss: 2.87411\n",
      "Train Epoch: 2; Loss: 3.11303\n",
      "Train set: Average loss: 2.9596597234751885\n",
      "Validation set: Average loss: 6.87830\n"
     ]
    },
    {
     "data": {
      "image/png": "[encoded data removed]",
      "text/plain": [
       "<Figure size 640x480 with 1 Axes>"
      ]
     },
     "metadata": {},
     "output_type": "display_data"
    },
    {
     "name": "stdout",
     "output_type": "stream",
     "text": [
      "Starting epoch 3...\n",
      "Train Epoch: 3; Loss: 2.71002\n",
      "Train Epoch: 3; Loss: 2.96558\n",
      "Train set: Average loss: 2.863996529903341\n",
      "Validation set: Average loss: 6.83807\n"
     ]
    },
    {
     "data": {
      "image/png": "[encoded data removed]",
      "text/plain": [
       "<Figure size 640x480 with 1 Axes>"
      ]
     },
     "metadata": {},
     "output_type": "display_data"
    },
    {
     "name": "stdout",
     "output_type": "stream",
     "text": [
      "Starting epoch 4...\n",
      "Train Epoch: 4; Loss: 2.86381\n",
      "Train Epoch: 4; Loss: 2.91506\n",
      "Train set: Average loss: 2.8158091255112545\n"
     ]
    },
    {
     "ename": "KeyboardInterrupt",
     "evalue": "",
     "output_type": "error",
     "traceback": [
      "\u001b[1;31m---------------------------------------------------------------------------\u001b[0m",
      "\u001b[1;31mKeyboardInterrupt\u001b[0m                         Traceback (most recent call last)",
      "Cell \u001b[1;32mIn[12], line 10\u001b[0m\n\u001b[0;32m      8\u001b[0m t_loss \u001b[39m=\u001b[39m \u001b[39msum\u001b[39m(train_loss) \u001b[39m/\u001b[39m \u001b[39mlen\u001b[39m(train_loss)\n\u001b[0;32m      9\u001b[0m \u001b[39mprint\u001b[39m(\u001b[39mf\u001b[39m\u001b[39m'\u001b[39m\u001b[39mTrain set: Average loss: \u001b[39m\u001b[39m{\u001b[39;00mt_loss\u001b[39m}\u001b[39;00m\u001b[39m'\u001b[39m)\n\u001b[1;32m---> 10\u001b[0m val_loss \u001b[39m=\u001b[39m validate(criterion, model, val_dataloader, vocab_size_train, vocab_train_df, device)\n\u001b[0;32m     12\u001b[0m losses[\u001b[39m\"\u001b[39m\u001b[39mtrain\u001b[39m\u001b[39m\"\u001b[39m]\u001b[39m.\u001b[39mappend(t_loss)\n\u001b[0;32m     13\u001b[0m losses[\u001b[39m\"\u001b[39m\u001b[39mval\u001b[39m\u001b[39m\"\u001b[39m]\u001b[39m.\u001b[39mappend( val_loss\u001b[39m.\u001b[39mitem() )    \n",
      "File \u001b[1;32mc:\\Users\\Miguel\\OneDrive\\Escritorio\\dlnn-project_ia-group_2\\model\\train.py:14\u001b[0m, in \u001b[0;36mvalidate\u001b[1;34m(criterion, model, loader, vocab_size, vocab, device)\u001b[0m\n\u001b[0;32m     11\u001b[0m model\u001b[39m.\u001b[39meval()\n\u001b[0;32m     13\u001b[0m \u001b[39mwith\u001b[39;00m torch\u001b[39m.\u001b[39mno_grad():\n\u001b[1;32m---> 14\u001b[0m     \u001b[39mfor\u001b[39;00m batch_idx, (image, captions) \u001b[39min\u001b[39;00m \u001b[39menumerate\u001b[39m(\u001b[39miter\u001b[39m(loader)):\n\u001b[0;32m     16\u001b[0m         image, captions \u001b[39m=\u001b[39m image\u001b[39m.\u001b[39mto(device), captions\u001b[39m.\u001b[39mto(device)\n\u001b[0;32m     17\u001b[0m         outputs \u001b[39m=\u001b[39m model(image, captions)\n",
      "File \u001b[1;32mc:\\Users\\Miguel\\anaconda3\\envs\\Pytorch_2\\lib\\site-packages\\torch\\utils\\data\\dataloader.py:633\u001b[0m, in \u001b[0;36m_BaseDataLoaderIter.__next__\u001b[1;34m(self)\u001b[0m\n\u001b[0;32m    630\u001b[0m \u001b[39mif\u001b[39;00m \u001b[39mself\u001b[39m\u001b[39m.\u001b[39m_sampler_iter \u001b[39mis\u001b[39;00m \u001b[39mNone\u001b[39;00m:\n\u001b[0;32m    631\u001b[0m     \u001b[39m# TODO(https://github.com/pytorch/pytorch/issues/76750)\u001b[39;00m\n\u001b[0;32m    632\u001b[0m     \u001b[39mself\u001b[39m\u001b[39m.\u001b[39m_reset()  \u001b[39m# type: ignore[call-arg]\u001b[39;00m\n\u001b[1;32m--> 633\u001b[0m data \u001b[39m=\u001b[39m \u001b[39mself\u001b[39;49m\u001b[39m.\u001b[39;49m_next_data()\n\u001b[0;32m    634\u001b[0m \u001b[39mself\u001b[39m\u001b[39m.\u001b[39m_num_yielded \u001b[39m+\u001b[39m\u001b[39m=\u001b[39m \u001b[39m1\u001b[39m\n\u001b[0;32m    635\u001b[0m \u001b[39mif\u001b[39;00m \u001b[39mself\u001b[39m\u001b[39m.\u001b[39m_dataset_kind \u001b[39m==\u001b[39m _DatasetKind\u001b[39m.\u001b[39mIterable \u001b[39mand\u001b[39;00m \\\n\u001b[0;32m    636\u001b[0m         \u001b[39mself\u001b[39m\u001b[39m.\u001b[39m_IterableDataset_len_called \u001b[39mis\u001b[39;00m \u001b[39mnot\u001b[39;00m \u001b[39mNone\u001b[39;00m \u001b[39mand\u001b[39;00m \\\n\u001b[0;32m    637\u001b[0m         \u001b[39mself\u001b[39m\u001b[39m.\u001b[39m_num_yielded \u001b[39m>\u001b[39m \u001b[39mself\u001b[39m\u001b[39m.\u001b[39m_IterableDataset_len_called:\n",
      "File \u001b[1;32mc:\\Users\\Miguel\\anaconda3\\envs\\Pytorch_2\\lib\\site-packages\\torch\\utils\\data\\dataloader.py:1328\u001b[0m, in \u001b[0;36m_MultiProcessingDataLoaderIter._next_data\u001b[1;34m(self)\u001b[0m\n\u001b[0;32m   1325\u001b[0m     \u001b[39mreturn\u001b[39;00m \u001b[39mself\u001b[39m\u001b[39m.\u001b[39m_process_data(data)\n\u001b[0;32m   1327\u001b[0m \u001b[39massert\u001b[39;00m \u001b[39mnot\u001b[39;00m \u001b[39mself\u001b[39m\u001b[39m.\u001b[39m_shutdown \u001b[39mand\u001b[39;00m \u001b[39mself\u001b[39m\u001b[39m.\u001b[39m_tasks_outstanding \u001b[39m>\u001b[39m \u001b[39m0\u001b[39m\n\u001b[1;32m-> 1328\u001b[0m idx, data \u001b[39m=\u001b[39m \u001b[39mself\u001b[39;49m\u001b[39m.\u001b[39;49m_get_data()\n\u001b[0;32m   1329\u001b[0m \u001b[39mself\u001b[39m\u001b[39m.\u001b[39m_tasks_outstanding \u001b[39m-\u001b[39m\u001b[39m=\u001b[39m \u001b[39m1\u001b[39m\n\u001b[0;32m   1330\u001b[0m \u001b[39mif\u001b[39;00m \u001b[39mself\u001b[39m\u001b[39m.\u001b[39m_dataset_kind \u001b[39m==\u001b[39m _DatasetKind\u001b[39m.\u001b[39mIterable:\n\u001b[0;32m   1331\u001b[0m     \u001b[39m# Check for _IterableDatasetStopIteration\u001b[39;00m\n",
      "File \u001b[1;32mc:\\Users\\Miguel\\anaconda3\\envs\\Pytorch_2\\lib\\site-packages\\torch\\utils\\data\\dataloader.py:1284\u001b[0m, in \u001b[0;36m_MultiProcessingDataLoaderIter._get_data\u001b[1;34m(self)\u001b[0m\n\u001b[0;32m   1282\u001b[0m \u001b[39melif\u001b[39;00m \u001b[39mself\u001b[39m\u001b[39m.\u001b[39m_pin_memory:\n\u001b[0;32m   1283\u001b[0m     \u001b[39mwhile\u001b[39;00m \u001b[39mself\u001b[39m\u001b[39m.\u001b[39m_pin_memory_thread\u001b[39m.\u001b[39mis_alive():\n\u001b[1;32m-> 1284\u001b[0m         success, data \u001b[39m=\u001b[39m \u001b[39mself\u001b[39;49m\u001b[39m.\u001b[39;49m_try_get_data()\n\u001b[0;32m   1285\u001b[0m         \u001b[39mif\u001b[39;00m success:\n\u001b[0;32m   1286\u001b[0m             \u001b[39mreturn\u001b[39;00m data\n",
      "File \u001b[1;32mc:\\Users\\Miguel\\anaconda3\\envs\\Pytorch_2\\lib\\site-packages\\torch\\utils\\data\\dataloader.py:1132\u001b[0m, in \u001b[0;36m_MultiProcessingDataLoaderIter._try_get_data\u001b[1;34m(self, timeout)\u001b[0m\n\u001b[0;32m   1119\u001b[0m \u001b[39mdef\u001b[39;00m \u001b[39m_try_get_data\u001b[39m(\u001b[39mself\u001b[39m, timeout\u001b[39m=\u001b[39m_utils\u001b[39m.\u001b[39mMP_STATUS_CHECK_INTERVAL):\n\u001b[0;32m   1120\u001b[0m     \u001b[39m# Tries to fetch data from `self._data_queue` once for a given timeout.\u001b[39;00m\n\u001b[0;32m   1121\u001b[0m     \u001b[39m# This can also be used as inner loop of fetching without timeout, with\u001b[39;00m\n\u001b[1;32m   (...)\u001b[0m\n\u001b[0;32m   1129\u001b[0m     \u001b[39m# Returns a 2-tuple:\u001b[39;00m\n\u001b[0;32m   1130\u001b[0m     \u001b[39m#   (bool: whether successfully get data, any: data if successful else None)\u001b[39;00m\n\u001b[0;32m   1131\u001b[0m     \u001b[39mtry\u001b[39;00m:\n\u001b[1;32m-> 1132\u001b[0m         data \u001b[39m=\u001b[39m \u001b[39mself\u001b[39;49m\u001b[39m.\u001b[39;49m_data_queue\u001b[39m.\u001b[39;49mget(timeout\u001b[39m=\u001b[39;49mtimeout)\n\u001b[0;32m   1133\u001b[0m         \u001b[39mreturn\u001b[39;00m (\u001b[39mTrue\u001b[39;00m, data)\n\u001b[0;32m   1134\u001b[0m     \u001b[39mexcept\u001b[39;00m \u001b[39mException\u001b[39;00m \u001b[39mas\u001b[39;00m e:\n\u001b[0;32m   1135\u001b[0m         \u001b[39m# At timeout and error, we manually check whether any worker has\u001b[39;00m\n\u001b[0;32m   1136\u001b[0m         \u001b[39m# failed. Note that this is the only mechanism for Windows to detect\u001b[39;00m\n\u001b[0;32m   1137\u001b[0m         \u001b[39m# worker failures.\u001b[39;00m\n",
      "File \u001b[1;32mc:\\Users\\Miguel\\anaconda3\\envs\\Pytorch_2\\lib\\queue.py:180\u001b[0m, in \u001b[0;36mQueue.get\u001b[1;34m(self, block, timeout)\u001b[0m\n\u001b[0;32m    178\u001b[0m         \u001b[39mif\u001b[39;00m remaining \u001b[39m<\u001b[39m\u001b[39m=\u001b[39m \u001b[39m0.0\u001b[39m:\n\u001b[0;32m    179\u001b[0m             \u001b[39mraise\u001b[39;00m Empty\n\u001b[1;32m--> 180\u001b[0m         \u001b[39mself\u001b[39;49m\u001b[39m.\u001b[39;49mnot_empty\u001b[39m.\u001b[39;49mwait(remaining)\n\u001b[0;32m    181\u001b[0m item \u001b[39m=\u001b[39m \u001b[39mself\u001b[39m\u001b[39m.\u001b[39m_get()\n\u001b[0;32m    182\u001b[0m \u001b[39mself\u001b[39m\u001b[39m.\u001b[39mnot_full\u001b[39m.\u001b[39mnotify()\n",
      "File \u001b[1;32mc:\\Users\\Miguel\\anaconda3\\envs\\Pytorch_2\\lib\\threading.py:324\u001b[0m, in \u001b[0;36mCondition.wait\u001b[1;34m(self, timeout)\u001b[0m\n\u001b[0;32m    322\u001b[0m \u001b[39melse\u001b[39;00m:\n\u001b[0;32m    323\u001b[0m     \u001b[39mif\u001b[39;00m timeout \u001b[39m>\u001b[39m \u001b[39m0\u001b[39m:\n\u001b[1;32m--> 324\u001b[0m         gotit \u001b[39m=\u001b[39m waiter\u001b[39m.\u001b[39;49macquire(\u001b[39mTrue\u001b[39;49;00m, timeout)\n\u001b[0;32m    325\u001b[0m     \u001b[39melse\u001b[39;00m:\n\u001b[0;32m    326\u001b[0m         gotit \u001b[39m=\u001b[39m waiter\u001b[39m.\u001b[39macquire(\u001b[39mFalse\u001b[39;00m)\n",
      "\u001b[1;31mKeyboardInterrupt\u001b[0m: "
     ]
    }
   ],
   "source": [
    "### USING TRAIN AND VAL SEPARATED FUNCTIONS ONLY VISUALIZING LOSS VALUES FROM TRAINING AND VAL\n",
    "\n",
    "losses = {\"train\": [], \"val\": []}\n",
    "for epoch in range(20):\n",
    "    print(f'Starting epoch {epoch + 1}...')\n",
    "    \n",
    "    train_loss = train(epoch, criterion, model, optimizer, train_dataloader, vocab_size_train, device)\n",
    "    t_loss = sum(train_loss) / len(train_loss)\n",
    "    print(f'Train set: Average loss: {t_loss}')\n",
    "    val_loss = validate(criterion, model, val_dataloader, vocab_size_train, vocab_train_df, device)\n",
    "    \n",
    "    losses[\"train\"].append(t_loss)\n",
    "    losses[\"val\"].append( val_loss.item() )    \n",
    "    \n",
    "    # wandb.log({\"train_loss\": train_loss, \"val_loss\": val_loss})\n",
    "    \n",
    "    plt.plot(losses[\"train\"], label=\"training\")\n",
    "    plt.plot(losses[\"val\"], label=\"validation\")\n",
    "    plt.xlabel('Epochs')\n",
    "    plt.ylabel('Loss')\n",
    "    plt.legend()\n",
    "    plt.show()\n",
    "\n",
    "# wandb.save('model_checkpoint.pth')"
   ]
  },
  {
   "cell_type": "code",
   "execution_count": null,
   "metadata": {},
   "outputs": [],
   "source": [
    "torch.save(model.state_dict(), 'model_with_dropout.pt')"
   ]
  },
  {
   "cell_type": "code",
   "execution_count": null,
   "metadata": {},
   "outputs": [
    {
     "data": {
      "text/html": [
       "Waiting for W&B process to finish... <strong style=\"color:green\">(success).</strong>"
      ],
      "text/plain": [
       "<IPython.core.display.HTML object>"
      ]
     },
     "metadata": {},
     "output_type": "display_data"
    },
    {
     "data": {
      "text/html": [
       "<style>\n",
       "    table.wandb td:nth-child(1) { padding: 0 10px; text-align: left ; width: auto;} td:nth-child(2) {text-align: left ; width: 100%}\n",
       "    .wandb-row { display: flex; flex-direction: row; flex-wrap: wrap; justify-content: flex-start; width: 100% }\n",
       "    .wandb-col { display: flex; flex-direction: column; flex-basis: 100%; flex: 1; padding: 10px; }\n",
       "    </style>\n",
       "<div class=\"wandb-row\"><div class=\"wandb-col\"><h3>Run history:</h3><br/><table class=\"wandb\"><tr><td>val_loss</td><td>▁▃▄▅▅▆▆▆▆▆▆▆▆▆▇▇▇▇▇▇▇▇▇▇▇▇▇▇▇▇▇█▇███████</td></tr></table><br/></div><div class=\"wandb-col\"><h3>Run summary:</h3><br/><table class=\"wandb\"><tr><td>Optimizer</td><td>Adam (\n",
       "Parameter Gro...</td></tr><tr><td>val_loss</td><td>7.88102</td></tr></table><br/></div></div>"
      ],
      "text/plain": [
       "<IPython.core.display.HTML object>"
      ]
     },
     "metadata": {},
     "output_type": "display_data"
    },
    {
     "data": {
      "text/html": [
       " View run <strong style=\"color:#cdcd00\">flowing-cosmos-44</strong> at: <a href='https://wandb.ai/imgcaption_dl_project/miguel-moral%20%28imgcaption_dl_project%29/runs/vrte4d79' target=\"_blank\">https://wandb.ai/imgcaption_dl_project/miguel-moral%20%28imgcaption_dl_project%29/runs/vrte4d79</a><br/>Synced 5 W&B file(s), 1 media file(s), 0 artifact file(s) and 0 other file(s)"
      ],
      "text/plain": [
       "<IPython.core.display.HTML object>"
      ]
     },
     "metadata": {},
     "output_type": "display_data"
    },
    {
     "data": {
      "text/html": [
       "Find logs at: <code>.\\wandb\\run-20230521_021625-vrte4d79\\logs</code>"
      ],
      "text/plain": [
       "<IPython.core.display.HTML object>"
      ]
     },
     "metadata": {},
     "output_type": "display_data"
    }
   ],
   "source": [
    "# wandb.finish()"
   ]
  },
  {
   "cell_type": "code",
   "execution_count": null,
   "metadata": {},
   "outputs": [],
   "source": [
    "### USING A FUNCTION TO VISUALIZE THE CAPTIONS GENERATED IN VAL FROM THE TRAINING (WE TRAIN AGAIN AND VISALIZE THE CAPTIONS IN VAL, IT TAKES LONGER IF YOU JUST WANT TO TRAIN\n",
    "# WE TRAIN AGAIN AND VISALIZE THE CAPTIONS IN VAL, IT TAKES LONGER IF YOU JUST WANT TO TRAIN RUN THE CELL ABOVE\n",
    "val_visualize_captions(model, train_dataloader, val_dataloader, criterion, optimizer, device, vocab_size_train, vocab_train_df, 20)"
   ]
  }
 ],
 "metadata": {
  "kernelspec": {
   "display_name": "Pytorch_2",
   "language": "python",
   "name": "python3"
  },
  "language_info": {
   "codemirror_mode": {
    "name": "ipython",
    "version": 3
   },
   "file_extension": ".py",
   "mimetype": "text/x-python",
   "name": "python",
   "nbconvert_exporter": "python",
   "pygments_lexer": "ipython3",
   "version": "3.10.9"
  },
  "orig_nbformat": 4
 },
 "nbformat": 4,
 "nbformat_minor": 2
}
