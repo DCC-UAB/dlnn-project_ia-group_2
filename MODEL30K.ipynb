{
 "cells": [
  {
   "cell_type": "code",
   "execution_count": null,
   "metadata": {},
   "outputs": [],
   "source": [
    "from PIL import Image\n",
    "\n",
    "import torch\n",
    "import torch.nn as nn\n",
    "import torch.optim as optim\n",
    "import torchvision.transforms as transforms\n",
    "import torchvision.models as models\n",
    "from torch.optim.lr_scheduler import ReduceLROnPlateau\n",
    "\n",
    "from get_loader import  get_loader, get_pad_index, get_vocab\n",
    "from utils.utils import weights_matrix\n",
    "from train import train\n",
    "from test import evaluate_caps, validate, average_test_BLEU  \n",
    "from model.model_dropout import EncoderDecoder\n",
    "from train_test_val_split import train_test_val_split\n",
    "\n",
    "import matplotlib.pyplot as plt\n",
    "import wandb\n",
    "import warnings\n",
    "warnings.filterwarnings(\"ignore\")\n",
    "import pickle\n",
    "import bcolz\n"
   ]
  },
  {
   "cell_type": "code",
   "execution_count": null,
   "metadata": {},
   "outputs": [],
   "source": [
    "# Getting the dataset paths (is NOT in the repo)\n",
    "main_path_miguel = 'C:/Users/Miguel/OneDrive/Escritorio/2n curs/2n Semestre/Neural Networks and Deep Learning/Project/data_8k'\n",
    "main_path_pol = r\"C:\\Users\\polme\\OneDrive - UAB\\Escritorio\\Universitat\\Deep Learning\\FinalProject\\data30k\"\n",
    "\n",
    "data_dir = main_path_pol + '/Images/'\n",
    "captions_file = main_path_pol + '/captions.txt'\n",
    "\n",
    "# Train, val, test split\n",
    "train_df, val_df, test_df = train_test_val_split(captions_file) \n",
    "\n",
    "# Define transfroms\n",
    "\n",
    "input_size = (224,224)\n",
    "\n",
    "transform_train = transforms.Compose(\n",
    "[\n",
    "transforms.Resize(input_size),   \n",
    "transforms.RandomHorizontalFlip(), # Adding random hoizontal flip\n",
    "transforms.ToTensor(),\n",
    "transforms.Normalize(\n",
    "    mean=[0.485, 0.456, 0.406],  # Normalize with the mean\n",
    "    std=[0.229, 0.224, 0.225]    # Normalize with the standard deviation\n",
    ")\n",
    "])\n",
    "\n",
    "transform_val = transforms.Compose(\n",
    "[\n",
    "transforms.Resize(input_size),\n",
    "transforms.ToTensor(),\n",
    "transforms.Normalize(\n",
    "    mean=[0.485, 0.456, 0.406],  # Normalize with the mean\n",
    "    std=[0.229, 0.224, 0.225]    # Normalize with the standard deviation\n",
    ")\n",
    "])\n",
    "\n",
    "# Getting the index of the <PAD> token \n",
    "pad_index = get_pad_index(data_dir=data_dir, dataframe=train_df, transform=transform_train)\n",
    "\n",
    "# Getting the vocabulary of each split\n",
    "vocab_train_df = get_vocab(data_dir=data_dir, dataframe=train_df, transform=transform_train)\n",
    "vocab_val_df = get_vocab(data_dir=data_dir, dataframe=val_df, transform=transform_val)\n",
    "vocab_test_df = get_vocab(data_dir=data_dir, dataframe=test_df, transform=transform_val)\n",
    "\n",
    "# Create train, validation, and test data loaders\n",
    "train_dataloader = get_loader(data_dir=data_dir, dataframe=train_df, transform=transform_train, batch_size=128, num_workers=1, shuffle = True) # Batch size 32\n",
    "val_dataloader = get_loader(data_dir=data_dir, dataframe=val_df, transform=transform_val, batch_size=64, num_workers=1, shuffle = False) # Batch size 8\n",
    "test_dataloader = get_loader(data_dir=data_dir, dataframe=test_df, transform=transform_val, batch_size=8, num_workers=1)\n",
    "\n"
   ]
  },
  {
   "cell_type": "code",
   "execution_count": null,
   "metadata": {},
   "outputs": [],
   "source": [
    "# Hyperparameters\n",
    "embed_size = 300 # Size of pretrained embedding\n",
    "hidden_size = 512\n",
    "vocab_size_train = len(vocab_train_df)\n",
    "num_layers = 2 # Number of lstm layers\n",
    "learning_rate = 0.001\n",
    "num_epochs = 50\n",
    "device = torch.device(\"cuda\" if torch.cuda.is_available() else \"cpu\")\n",
    "print(device)"
   ]
  },
  {
   "cell_type": "code",
   "execution_count": null,
   "metadata": {},
   "outputs": [],
   "source": [
    "# To use the pretrained embedding\n",
    "# Pickles and files should be stored outside the repo and can be generated from the txt using the generate_embedding.py\n",
    "miguel_path_glove = r\"C:\\Users\\Miguel\\OneDrive\\Escritorio\\2n curs\\2n Semestre\\Neural Networks and Deep Learning\\Project\\300dim_embedding\"\n",
    "pol_path_glove = r\"C:\\Users\\polme\\OneDrive - UAB\\Escritorio\\Universitat\\Deep Learning\\Embeddings\\300dim_embedding\"\n",
    "\n",
    "raw_glove_path = pol_path_glove\n",
    "processed_glove_path = pol_path_glove\n",
    "vectors = bcolz.open(f'{raw_glove_path}/6B.300.dat')[:]\n",
    "words = pickle.load(open(f'{processed_glove_path}/6B.300_words.pkl', 'rb'))\n",
    "word2idx = pickle.load(open(f'{processed_glove_path}/6B.300_idx.pkl', 'rb'))\n",
    "\n",
    "glove = {w: vectors[word2idx[w]] for w in words}\n",
    "weights = weights_matrix(vocab_train_df, 300, glove)\n",
    "weights = torch.Tensor(weights)"
   ]
  },
  {
   "cell_type": "code",
   "execution_count": null,
   "metadata": {},
   "outputs": [],
   "source": [
    "model = EncoderDecoder(embed_size, hidden_size, vocab_size_train, num_layers, weight_matrix=weights, finetune_embedding=True).to(device)\n",
    "\n",
    "# Ignoring padding when calculating the loss\n",
    "criterion = nn.CrossEntropyLoss(ignore_index=pad_index) \n",
    "\n",
    "# We tried to apply weight decay (L2 reg) to prevent overfitting, but not worked well\n",
    "optimizer = optim.Adam(model.parameters(), lr=learning_rate) # We proved to apply weight decay that is L2 reg to prevent overfitting, but not worked well\n",
    "#scheduler = ReduceLROnPlateau(optimizer, mode='min', factor=0.1, patience=3, verbose=True) # also tried scheduler\n",
    "\n",
    "print(model)"
   ]
  },
  {
   "cell_type": "code",
   "execution_count": null,
   "metadata": {},
   "outputs": [],
   "source": [
    "# Training the model\n",
    "losses = {\"train\": [], \"val\": []}\n",
    "for epoch in range(num_epochs):\n",
    "\n",
    "    train_loss = train(criterion, model, optimizer, train_dataloader, device)\n",
    "    val_loss = validate(criterion, model, val_dataloader, device)\n",
    "    print(\"Epoch: {}\".format(epoch))\n",
    "    print(\"Train set - Average Train Loss: {:.5f}\".format(train_loss))\n",
    "    print(\"Validation set - Average Validation Loss: {:.5f}\".format(val_loss))\n",
    "    losses[\"train\"].append(train_loss)\n",
    "    losses[\"val\"].append(val_loss)\n",
    "\n",
    "\n",
    "# Plot the losses\n",
    "plt.figure(figsize=(10, 6))\n",
    "plt.plot(losses[\"train\"], label=\"Training Loss\")\n",
    "plt.plot(losses[\"val\"], label=\"Validation Loss\")\n",
    "plt.xlabel(\"Epoch\")\n",
    "plt.ylabel(\"Loss\")\n",
    "plt.legend()\n",
    "plt.title(\"Training and Validation Loss\")\n",
    "plt.show()\n",
    "\n",
    "# RUN THE CELL BELOW TO SAVE THE MODEL IN A PKL TO THEN BE ABLE TO USED TO TEST\n"
   ]
  },
  {
   "cell_type": "code",
   "execution_count": null,
   "metadata": {},
   "outputs": [],
   "source": [
    "# We have to save it outside the git repo as it is a very big file and github does not allow to uploaded it\n",
    "miguel_path_pickles = 'C:/Users/Miguel/OneDrive/Escritorio/2n curs/2n Semestre/Neural Networks and Deep Learning/Project/training_models'\n",
    "pol_path_pickles = r\"C:\\Users\\polme\\OneDrive - UAB\\Escritorio\\Universitat\\Deep Learning\\FinalProject\\pkl files\""
   ]
  },
  {
   "cell_type": "code",
   "execution_count": null,
   "metadata": {},
   "outputs": [],
   "source": [
    "# TO SAVE THE TRAINED MODEL ABOVE\n",
    "pickle.dump(model, open(pol_path_pickles + '/30k_model.pkl', 'wb'))"
   ]
  },
  {
   "cell_type": "code",
   "execution_count": null,
   "metadata": {},
   "outputs": [],
   "source": [
    "# TO OPEN THE MODEL AND USE IT TO TEST \n",
    "pickled_model_without_reg = pickle.load(open(miguel_path_pickles + '/30k_model.pkl', 'rb'))"
   ]
  },
  {
   "cell_type": "code",
   "execution_count": null,
   "metadata": {},
   "outputs": [],
   "source": [
    "# We test the model by analyzing the captions generated in the test set\n",
    "evaluate_caps(pickled_model_without_reg, test_dataloader, test_df, vocab_train_df, device)"
   ]
  },
  {
   "cell_type": "code",
   "execution_count": null,
   "metadata": {},
   "outputs": [],
   "source": [
    "average_test_BLEU(pickled_model_without_reg, test_dataloader, test_df, vocab_train_df, device)"
   ]
  }
 ],
 "metadata": {
  "kernelspec": {
   "display_name": "Pytorch_2",
   "language": "python",
   "name": "python3"
  },
  "language_info": {
   "codemirror_mode": {
    "name": "ipython",
    "version": 3
   },
   "file_extension": ".py",
   "mimetype": "text/x-python",
   "name": "python",
   "nbconvert_exporter": "python",
   "pygments_lexer": "ipython3",
   "version": "3.11.3"
  },
  "orig_nbformat": 4
 },
 "nbformat": 4,
 "nbformat_minor": 2
}
